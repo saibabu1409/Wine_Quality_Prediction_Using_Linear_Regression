{
 "cells": [
  {
   "cell_type": "code",
   "execution_count": 2,
   "id": "065e0cf6",
   "metadata": {},
   "outputs": [],
   "source": [
    "from matplotlib import pyplot as plt\n",
    "from sklearn.linear_model import LinearRegression\n",
    "from sklearn.model_selection import train_test_split\n",
    "import pandas as pd\n",
    "import numpy as np\n",
    "import matplotlib.pyplot as plt"
   ]
  },
  {
   "cell_type": "code",
   "execution_count": 6,
   "id": "198606e4",
   "metadata": {},
   "outputs": [],
   "source": [
    "wineq = pd.read_csv(r\"C:\\Users\\Lenovo\\Downloads\\winequality-red.csv\")\n"
   ]
  },
  {
   "cell_type": "code",
   "execution_count": 7,
   "id": "73dd2ac8",
   "metadata": {},
   "outputs": [
    {
     "name": "stdout",
     "output_type": "stream",
     "text": [
      "      fixed acidity  volatile acidity  citric acid  residual sugar  chlorides  \\\n",
      "0               7.4             0.700         0.00             1.9      0.076   \n",
      "1               7.8             0.880         0.00             2.6      0.098   \n",
      "2               7.8             0.760         0.04             2.3      0.092   \n",
      "3              11.2             0.280         0.56             1.9      0.075   \n",
      "4               7.4             0.700         0.00             1.9      0.076   \n",
      "...             ...               ...          ...             ...        ...   \n",
      "1594            6.2             0.600         0.08             2.0      0.090   \n",
      "1595            5.9             0.550         0.10             2.2      0.062   \n",
      "1596            6.3             0.510         0.13             2.3      0.076   \n",
      "1597            5.9             0.645         0.12             2.0      0.075   \n",
      "1598            6.0             0.310         0.47             3.6      0.067   \n",
      "\n",
      "      free sulfur dioxide  total sulfur dioxide  density    pH  sulphates  \\\n",
      "0                    11.0                  34.0  0.99780  3.51       0.56   \n",
      "1                    25.0                  67.0  0.99680  3.20       0.68   \n",
      "2                    15.0                  54.0  0.99700  3.26       0.65   \n",
      "3                    17.0                  60.0  0.99800  3.16       0.58   \n",
      "4                    11.0                  34.0  0.99780  3.51       0.56   \n",
      "...                   ...                   ...      ...   ...        ...   \n",
      "1594                 32.0                  44.0  0.99490  3.45       0.58   \n",
      "1595                 39.0                  51.0  0.99512  3.52       0.76   \n",
      "1596                 29.0                  40.0  0.99574  3.42       0.75   \n",
      "1597                 32.0                  44.0  0.99547  3.57       0.71   \n",
      "1598                 18.0                  42.0  0.99549  3.39       0.66   \n",
      "\n",
      "      alcohol  quality  \n",
      "0         9.4        5  \n",
      "1         9.8        5  \n",
      "2         9.8        5  \n",
      "3         9.8        6  \n",
      "4         9.4        5  \n",
      "...       ...      ...  \n",
      "1594     10.5        5  \n",
      "1595     11.2        6  \n",
      "1596     11.0        6  \n",
      "1597     10.2        5  \n",
      "1598     11.0        6  \n",
      "\n",
      "[1599 rows x 12 columns]\n"
     ]
    }
   ],
   "source": [
    "print(wineq)"
   ]
  },
  {
   "cell_type": "code",
   "execution_count": 8,
   "id": "eeb39b98",
   "metadata": {},
   "outputs": [],
   "source": [
    "quality = wineq.quality"
   ]
  },
  {
   "cell_type": "code",
   "execution_count": 9,
   "id": "be0295ac",
   "metadata": {},
   "outputs": [],
   "source": [
    "winex = wineq.drop(['quality'],axis = 'columns')\n"
   ]
  },
  {
   "cell_type": "code",
   "execution_count": 10,
   "id": "5d07d246",
   "metadata": {},
   "outputs": [],
   "source": [
    "mlr = LinearRegression()\n"
   ]
  },
  {
   "cell_type": "code",
   "execution_count": 11,
   "id": "dfbc5100",
   "metadata": {},
   "outputs": [],
   "source": [
    "x_train, x_test, y_train, y_test = train_test_split(winex, quality, train_size = 0.8, test_size = 0.2)\n"
   ]
  },
  {
   "cell_type": "code",
   "execution_count": 12,
   "id": "1c303842",
   "metadata": {},
   "outputs": [],
   "source": [
    "model = mlr.fit(x_train,y_train)\n"
   ]
  },
  {
   "cell_type": "code",
   "execution_count": 13,
   "id": "371402d6",
   "metadata": {},
   "outputs": [],
   "source": [
    "y_pred = mlr.predict(x_test)\n"
   ]
  },
  {
   "cell_type": "code",
   "execution_count": 14,
   "id": "02d7f6cc",
   "metadata": {},
   "outputs": [
    {
     "name": "stdout",
     "output_type": "stream",
     "text": [
      "[ 6.01673790e-03 -1.16481261e+00 -2.04382541e-01  2.31278704e-02\n",
      " -1.80480065e+00  2.90709148e-03 -3.12972782e-03 -1.19576510e+01\n",
      " -3.94491035e-01  1.06900051e+00  2.70435670e-01]\n"
     ]
    }
   ],
   "source": [
    "print(mlr.coef_)"
   ]
  },
  {
   "cell_type": "code",
   "execution_count": 15,
   "id": "d9dc7be6",
   "metadata": {},
   "outputs": [
    {
     "name": "stdout",
     "output_type": "stream",
     "text": [
      "Train score:\n",
      "0.36228475645730285\n",
      "Test score:\n",
      "0.34089997576990916\n"
     ]
    }
   ],
   "source": [
    "print(\"Train score:\")\n",
    "print(mlr.score(x_train, y_train))\n",
    "\n",
    "print(\"Test score:\")\n",
    "print(mlr.score(x_test, y_test))"
   ]
  },
  {
   "cell_type": "code",
   "execution_count": 16,
   "id": "9a8665bc",
   "metadata": {},
   "outputs": [
    {
     "name": "stdout",
     "output_type": "stream",
     "text": [
      "Train score:\n",
      "0.36228475645730285\n",
      "Test score:\n",
      "0.34089997576990916\n"
     ]
    }
   ],
   "source": [
    "print(\"Train score:\")\n",
    "print(mlr.score(x_train, y_train))\n",
    "\n",
    "print(\"Test score:\")\n",
    "print(mlr.score(x_test, y_test))"
   ]
  },
  {
   "cell_type": "code",
   "execution_count": 17,
   "id": "f20b4039",
   "metadata": {},
   "outputs": [
    {
     "data": {
      "image/png": "[encoded data removed]",
      "text/plain": [
       "<Figure size 432x288 with 1 Axes>"
      ]
     },
     "metadata": {
      "needs_background": "light"
     },
     "output_type": "display_data"
    }
   ],
   "source": [
    "plt.scatter(y_test, y_pred)\n",
    "plt.plot(range(10), range(10))\n",
    "\n",
    "plt.xlabel(\"Quality: $Y_i$\")\n",
    "plt.ylabel(\"Predicted quality: $\\hat{Y}_i$\")\n",
    "plt.title(\"Actual Quality vs Predicted Quality\")\n",
    "\n",
    "plt.show()"
   ]
  },
  {
   "cell_type": "code",
   "execution_count": 18,
   "id": "b86044eb",
   "metadata": {},
   "outputs": [],
   "source": [
    "mean = x_train.mean(axis=0) \n",
    "x_train -=mean\n",
    "std = x_train.std(axis=0)\n",
    "x_train /= std\n",
    "\n",
    "x_test -= mean\n",
    "x_test /= std\n"
   ]
  },
  {
   "cell_type": "code",
   "execution_count": 19,
   "id": "66f71233",
   "metadata": {},
   "outputs": [],
   "source": [
    "def build_model(): \n",
    "    dlmodel = models.Sequential() \n",
    "    \n",
    "    dlmodel.add(layers.Dense(64, activation = 'relu',input_shape=(x_train.shape[1],))) \n",
    "    dlmodel.add(layers.Dense(64, activation='relu')) \n",
    "    dlmodel.add(layers.Dense(1)) \n",
    "    dlmodel.compile(optimizer='rmsprop',loss='mse', metrics=['mae']) \n",
    "    return dlmodel"
   ]
  },
  {
   "cell_type": "code",
   "execution_count": null,
   "id": "363f7835",
   "metadata": {},
   "outputs": [],
   "source": []
  }
 ],
 "metadata": {
  "kernelspec": {
   "display_name": "Python 3 (ipykernel)",
   "language": "python",
   "name": "python3"
  },
  "language_info": {
   "codemirror_mode": {
    "name": "ipython",
    "version": 3
   },
   "file_extension": ".py",
   "mimetype": "text/x-python",
   "name": "python",
   "nbconvert_exporter": "python",
   "pygments_lexer": "ipython3",
   "version": "3.9.12"
  }
 },
 "nbformat": 4,
 "nbformat_minor": 5
}
